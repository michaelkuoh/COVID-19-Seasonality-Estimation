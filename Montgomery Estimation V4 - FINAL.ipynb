{
 "cells": [
  {
   "cell_type": "markdown",
   "id": "bd8bd7a2-e07d-4ac4-b175-58d381620592",
   "metadata": {},
   "source": [
    "<div style=\"display: flex; align-items: center;\">\n",
    "  <!-- Left side: Image -->\n",
    "  <div style=\"flex: 1;\">\n",
    "    <img src=\"Montgomery.jpg\" alt=\"Montgomery\" style=\"max-width: 100%; height: auto;\">\n",
    "  </div>\n",
    "\n",
    "  <!-- Right side: Heading -->\n",
    "  <div style=\"flex: 2; padding-left: 20px;\">\n",
    "    <h1 style=\"font-size: 2rem; color: orange;\">\n",
    "      COVID 19 Reproduction Number Estimation using a SEIR Vaccination Model and Nonlinear Regression (Montgomery County)\n",
    "    </h1>\n",
    "  </div>\n",
    "</div>"
   ]
  },
  {
   "cell_type": "code",
   "execution_count": 26,
   "id": "82ab0178-7450-48fc-99a0-931343a0d6b5",
   "metadata": {},
   "outputs": [],
   "source": [
    "import numpy as np\n",
    "import pandas as pd\n",
    "from scipy.integrate import odeint\n",
    "import matplotlib.pyplot as plt\n",
    "import scipy.optimize as spo"
   ]
  },
  {
   "cell_type": "code",
   "execution_count": 27,
   "id": "f95f3647-1d7c-4ef9-80b7-af6c9ff4ad0a",
   "metadata": {},
   "outputs": [
    {
     "name": "stdout",
     "output_type": "stream",
     "text": [
      "[127, 137, 142, 99, 98]\n",
      "[82, 51, 50, 47, 85]\n",
      "[38, 42, 50, 42, 50]\n",
      "[58, 67, 108, 95, 108]\n",
      "[135, 177, 154, 164, 83]\n",
      "[45, 56, 30, 24, 19]\n"
     ]
    }
   ],
   "source": [
    "# read in Montgomery Covid data for new infections \n",
    "\n",
    "# File path for the Excel file\n",
    "file_path = \"MontgomeryAllYear-V4.xlsx\"\n",
    "\n",
    "# List of sheet names from the Excel file\n",
    "sheet_names = [\n",
    "    \"SpringSummer2021\", \"SpringSummer2022\", \"SpringSummer2023\", \n",
    "    \"FallWinter2021\", \"FallWinter2022\", \"FallWinter2023\"\n",
    "]\n",
    "\n",
    "# List of variable names you want for the \"New_Cases\" lists\n",
    "list_names = [\n",
    "    \"Summer21\", \"Summer22\", \"Summer23\", \n",
    "    \"Winter21\", \"Winter22\", \"Winter23\"\n",
    "]\n",
    "\n",
    "# Loop over each sheet and create a variable for each list of \"New_Cases\"\n",
    "for sheet, list_name in zip(sheet_names, list_names):\n",
    "    # Read the sheet into a DataFrame\n",
    "    df = pd.read_excel(file_path, sheet_name=sheet)\n",
    "    \n",
    "    # Extract the \"New_Cases\" column and convert it into a list\n",
    "    new_cases_list = df[\"New_Cases\"].tolist()\n",
    "    \n",
    "    # Dynamically assign the list to a variable with the desired name\n",
    "    globals()[list_name] = new_cases_list\n",
    "\n",
    "# Now we have 6 separate lists as variables:\n",
    "print(Summer21[:5])\n",
    "print(Summer22[:5])\n",
    "print(Summer23[:5])\n",
    "print(Winter21[:5])\n",
    "print(Winter22[:5])\n",
    "print(Winter23[:5])"
   ]
  },
  {
   "cell_type": "code",
   "execution_count": 28,
   "id": "cbd7f123-b846-4c64-84a8-fd8d224b3d2b",
   "metadata": {},
   "outputs": [],
   "source": [
    "# Estimate infectious popluation for all read in data - assumes infectious period of 7 days\n",
    "def update_list(lst):\n",
    "    updated_lst = []\n",
    "    \n",
    "    for i in range(len(lst)):\n",
    "        # Get the last 6 entries (or fewer) before the current entry\n",
    "        last_six = lst[max(0, i-6):i]\n",
    "        updated_entry = lst[i] + sum(last_six)\n",
    "        updated_lst.append(updated_entry)\n",
    "\n",
    "    updated_lst = updated_lst[6:]\n",
    "    return updated_lst\n",
    "        \n",
    "summer21_infectious_data = update_list(Summer21)\n",
    "summer22_infectious_data = update_list(Summer22)\n",
    "summer23_infectious_data = update_list(Summer23)\n",
    "\n",
    "winter21_infectious_data = update_list(Winter21)\n",
    "winter22_infectious_data = update_list(Winter22)\n",
    "winter23_infectious_data = update_list(Winter23)"
   ]
  },
  {
   "cell_type": "code",
   "execution_count": 29,
   "id": "e97bcfe7-1a98-40be-a83e-b319ea742670",
   "metadata": {},
   "outputs": [
    {
     "name": "stdout",
     "output_type": "stream",
     "text": [
      "151\n",
      "153\n",
      "152\n"
     ]
    }
   ],
   "source": [
    "# account for underreporting \n",
    "winter21data = [x * 3 for x in winter21_infectious_data]\n",
    "winter22data = [x * 3 for x in winter22_infectious_data]\n",
    "winter23data = [x * 3 for x in winter23_infectious_data]\n",
    "\n",
    "summer21data = [x * 3 for x in summer21_infectious_data]\n",
    "summer22data = [x * 3 for x in summer22_infectious_data]\n",
    "summer23data = [x * 3 for x in summer23_infectious_data]\n",
    "\n",
    "print(len(winter21data))\n",
    "print(len(summer21data))\n",
    "print(len(winter23data))"
   ]
  },
  {
   "cell_type": "code",
   "execution_count": 30,
   "id": "18e255aa-226b-4e76-bdb0-fccf831e0735",
   "metadata": {},
   "outputs": [],
   "source": [
    "# Set up differential equations for the SEIR model (in vector form) using the parameters N, beta, alpha, and gamma.\n",
    "def dVdt(vector, t, N, alpha, beta, gamma):\n",
    "    S, E, I, R = vector\n",
    "    dSdt = -beta * S * I / N\n",
    "    dEdt = beta * S * I / N - alpha * E\n",
    "    dIdt = alpha * E - gamma * I\n",
    "    dRdt = gamma * I\n",
    "    return dSdt, dEdt, dIdt, dRdt"
   ]
  },
  {
   "cell_type": "code",
   "execution_count": 31,
   "id": "c80d6288-4876-4ef5-bbde-005dc3af9585",
   "metadata": {},
   "outputs": [],
   "source": [
    "# Define total population in Montgomery, N.\n",
    "N = 1053000\n",
    "\n",
    "# Define average time of recovery (in days).\n",
    "recovery = 7\n",
    "\n",
    "# Calculate recovery rate gamma (in 1/days)\n",
    "gamma = 1./recovery \n",
    "\n",
    "# Set vaccination rates for Summer21, Summer22, Summer23\n",
    "summer21vac, summer22vac, summer23vac = 376517, 902479, 955543, \n",
    "# Set vaccination rates for Winter21, Winter22, Winter23\n",
    "# For Winter23, see https://covidactnow.org/us/maryland-md/county/baltimore_city/?s=50083753 which set number at 95% of population\n",
    "winter21vac, winter22vac, winter23vac = 783658, 943639, 100035"
   ]
  },
  {
   "cell_type": "code",
   "execution_count": 32,
   "id": "d0dbb65b-8f41-43b4-90a8-86d029b6e544",
   "metadata": {},
   "outputs": [],
   "source": [
    "# Define loss function using SEIR Model ODEs (summer months has 182 days, winter months has 183 days)\n",
    "def loss_function(alpha_beta, N, gamma, dataI, vac):\n",
    "\n",
    "    # Define initial number of exposed, infected, and recovered individuals: E0, I0, R0.\n",
    "    # # take into account vaccination\n",
    "    E0, I0, R0 = 0, dataI[0], vac\n",
    "\n",
    "    # Define initial number of susceptible individuals.\n",
    "    S0 = N - E0 - I0 - R0 \n",
    "\n",
    "    # Set up initial conditions vector for S0, E0, I0, R0\n",
    "    initial_conditions = S0, E0, I0, R0\n",
    "    \n",
    "    # Create an array of evenly spaced time values(in days)\n",
    "    t = np.linspace(0, len(dataI), len(dataI))\n",
    "    \n",
    "    # Solve for the differential equations for the SIR model (in vector form) by integrating over the time array t.\n",
    "    solution = odeint(dVdt, initial_conditions, t, args=(N, alpha_beta[0], alpha_beta[1], gamma))\n",
    "    # transpose solution array to extract data \n",
    "    S, E, I, R = solution.T\n",
    "\n",
    "    loss = 0\n",
    "    \n",
    "    for i in range(len(dataI)):\n",
    "        data_I = dataI[i]\n",
    "        model_I = I[i]\n",
    "        res = (model_I - data_I)**2\n",
    "        loss += res\n",
    "    return (loss)"
   ]
  },
  {
   "cell_type": "code",
   "execution_count": 33,
   "id": "27084427-3017-433b-9e65-a29a2a0db608",
   "metadata": {},
   "outputs": [
    {
     "name": "stdout",
     "output_type": "stream",
     "text": [
      "Optimal alpha and beta for Summer 2021: [0.11025358 0.23121038]\n",
      "Optimal alpha and beta for Summer 2022: [0.1134501  2.00557494]\n",
      "Optimal alpha and beta for Summer 2023: [0.91743119 1.58762602]\n",
      "Optimal alpha and beta for Winter 2021: [0.11025358 1.50992454]\n",
      "Optimal alpha and beta for Winter 2022: [0.19227358 1.95244751]\n",
      "Optimal alpha and beta for Winter 2023: [0.91743119 0.16154624]\n"
     ]
    }
   ],
   "source": [
    "# Initial guess for alpha and beta\n",
    "initial_guess = [1./5, 0.4]  # Initial guess for alpha and beta\n",
    "\n",
    "#lowest beta calculated using lowest R number and highest S=N\n",
    "beta_lowest = (0.5 * N * gamma)/N   \n",
    "#highest beta calculated using highest R number and lowest S=1\n",
    "beta_highest = (24 * N * gamma)/1\n",
    "\n",
    "# Set bounds for alpha and beta\n",
    "bounds = [(1./9.07, 1./1.09), (beta_lowest, beta_highest)]  # alpha between 1/(9.07 days) and 1/(1.09 days), beta between 0.2 and 2\n",
    "\n",
    "\n",
    "# Use scipy.optimize.minimize to minimize the loss function for Summer 2021 and Summer 2022 \n",
    "summer21_result = spo.minimize(loss_function, initial_guess, args=(N, gamma, summer21data, summer21vac), method='L-BFGS-B', bounds=bounds)\n",
    "summer22_result = spo.minimize(loss_function, initial_guess, args=(N, gamma, summer22data, summer22vac), method='L-BFGS-B', bounds=bounds)\n",
    "summer23_result = spo.minimize(loss_function, initial_guess, args=(N, gamma, summer23data, summer23vac), method='L-BFGS-B', bounds=bounds)\n",
    "\n",
    "# Print the optimal parameters and minimum loss for summer 2021 Alexandria and summer 2022 Alexandria\n",
    "print(\"Optimal alpha and beta for Summer 2021:\", summer21_result.x)\n",
    "print(\"Optimal alpha and beta for Summer 2022:\", summer22_result.x)\n",
    "print(\"Optimal alpha and beta for Summer 2023:\", summer23_result.x)\n",
    "\n",
    "# Use scipy.optimize.minimize to minimize the loss function for winter 2021 and winter 2022 \n",
    "winter21_result = spo.minimize(loss_function, initial_guess, args=(N, gamma, winter21data, winter21vac), method='L-BFGS-B', bounds=bounds)\n",
    "winter22_result = spo.minimize(loss_function, initial_guess, args=(N, gamma, winter22data, winter22vac), method='L-BFGS-B', bounds=bounds)\n",
    "winter23_result = spo.minimize(loss_function, initial_guess, args=(N, gamma, winter23data, winter23vac), method='L-BFGS-B', bounds=bounds)\n",
    "\n",
    "# Print the optimal parameters and minimum loss for winter 2021 and winter 2022 \n",
    "print(\"Optimal alpha and beta for Winter 2021:\", winter21_result.x)\n",
    "print(\"Optimal alpha and beta for Winter 2022:\", winter22_result.x)\n",
    "print(\"Optimal alpha and beta for Winter 2023:\", winter23_result.x)\n"
   ]
  },
  {
   "cell_type": "code",
   "execution_count": 34,
   "id": "34a36471-087c-43ab-845d-5926815ff4aa",
   "metadata": {},
   "outputs": [],
   "source": [
    "#best fit alpha\n",
    "alpha_fit_winter21 = winter21_result.x[0]\n",
    "alpha_fit_winter22 = winter22_result.x[0]\n",
    "alpha_fit_winter23 = winter23_result.x[0]\n",
    "\n",
    "alpha_fit_summer21 = summer21_result.x[0]\n",
    "alpha_fit_summer22 = summer22_result.x[0]\n",
    "alpha_fit_summer23 = summer23_result.x[0]"
   ]
  },
  {
   "cell_type": "code",
   "execution_count": 35,
   "id": "64fd8405-7f79-452d-a10c-adb5a3283dd5",
   "metadata": {},
   "outputs": [],
   "source": [
    "#best fit beta\n",
    "beta_fit_winter21 = winter21_result.x[1]\n",
    "beta_fit_winter22 = winter22_result.x[1]\n",
    "beta_fit_winter23 = winter23_result.x[1]\n",
    "\n",
    "beta_fit_summer21 = summer21_result.x[1]\n",
    "beta_fit_summer22 = summer22_result.x[1]\n",
    "beta_fit_summer23 = summer23_result.x[1]"
   ]
  },
  {
   "cell_type": "code",
   "execution_count": 36,
   "id": "04500878-19d5-4027-b6d7-419ca5971100",
   "metadata": {},
   "outputs": [
    {
     "name": "stdout",
     "output_type": "stream",
     "text": [
      "153\n",
      "153\n"
     ]
    }
   ],
   "source": [
    "#Find best fit I(t) for Summer 2021 Montgomery Data\n",
    "# Define initial number of exposed, infected, and recovered individuals: E0, I0, R0.\n",
    "# take into account vaccination\n",
    "E0_summer21, I0_summer21, R0_summer21 = 0, summer21data[0], summer21vac\n",
    "\n",
    "\n",
    "# Define initial number of susceptible individuals.\n",
    "S0_summer21 = N - E0_summer21 - I0_summer21 - R0_summer21 \n",
    "\n",
    "# Set up initial conditions vector for S0, E0, I0, R0\n",
    "initial_summer21_conditions = S0_summer21, E0_summer21, I0_summer21, R0_summer21\n",
    "\n",
    "# Create an array of evenly spaced time values(in days)\n",
    "summer_t = np.linspace(0, len(summer21data), len(summer21data))\n",
    "\n",
    "# Solve for the differential equations for the SIR model (in vector form) by integrating over the time array t.\n",
    "summer21_solution = odeint(dVdt, initial_summer21_conditions, summer_t, args=(N, alpha_fit_summer21, beta_fit_summer21, gamma))\n",
    "\n",
    "# transpose solution array to extract data \n",
    "S_summer21, E_summer21, I_summer21, R_summer21 = summer21_solution.T\n",
    "\n",
    "print(len(summer21data))\n",
    "print(len(I_summer21))"
   ]
  },
  {
   "cell_type": "code",
   "execution_count": 37,
   "id": "56f5fabe-c52d-4d94-9f65-c5d182c78b27",
   "metadata": {
    "scrolled": true
   },
   "outputs": [
    {
     "name": "stdout",
     "output_type": "stream",
     "text": [
      "reproduction number for Summer 21: 1.0358655555601106\n"
     ]
    }
   ],
   "source": [
    "#Calculate reproduction number for summer 21 \n",
    "rep0_summer21 = (beta_fit_summer21 * S0_summer21) / (gamma * N)\n",
    "print(\"reproduction number for Summer 21:\", rep0_summer21)"
   ]
  },
  {
   "cell_type": "code",
   "execution_count": 38,
   "id": "37f665c9-f91f-4fac-ad81-5499f8ef24d7",
   "metadata": {},
   "outputs": [],
   "source": [
    "#Find best fit I(t) for Summer 2022 Montgomery Data\n",
    "# Define initial number of exposed, infected, and recovered individuals: E0, I0, R0.\n",
    "# take into account vaccination\n",
    "E0_summer22, I0_summer22, R0_summer22 = 0, summer22data[0], summer22vac\n",
    "\n",
    "\n",
    "# Define initial number of susceptible individuals.\n",
    "S0_summer22 = N - E0_summer22 - I0_summer22 - R0_summer22 \n",
    "\n",
    "# Set up initial conditions vector for S0, E0, I0, R0\n",
    "initial_summer22_conditions = S0_summer22, E0_summer22, I0_summer22, R0_summer22\n",
    "\n",
    "# Create an array of evenly spaced time values(in days)\n",
    "summer22_t = np.linspace(0, len(summer22data), len(summer22data))\n",
    "\n",
    "# Solve for the differential equations for the SIR model (in vector form) by integrating over the time array t.\n",
    "summer22_solution = odeint(dVdt, initial_summer22_conditions, summer22_t, args=(N, alpha_fit_summer22, beta_fit_summer22, gamma))\n",
    "\n",
    "# transpose solution array to extract data \n",
    "S_summer22, E_summer22, I_summer22, R_summer22 = summer22_solution.T"
   ]
  },
  {
   "cell_type": "code",
   "execution_count": 39,
   "id": "d474a779-9d82-4ea1-bd71-2ee6f04fe22b",
   "metadata": {},
   "outputs": [
    {
     "name": "stdout",
     "output_type": "stream",
     "text": [
      "reproduction number for summer 22: 1.984688767951209\n"
     ]
    }
   ],
   "source": [
    "#Calculate reproduction number for summer 22\n",
    "rep0_summer22 = (beta_fit_summer22 * S0_summer22) / (gamma * N)\n",
    "print(\"reproduction number for summer 22:\", rep0_summer22)"
   ]
  },
  {
   "cell_type": "code",
   "execution_count": 40,
   "id": "4166abc2-5999-40f9-9495-adbe7087b1bb",
   "metadata": {},
   "outputs": [],
   "source": [
    "#Find best fit I(t) for Summer 2023 Montgomery Data\n",
    "# Define initial number of exposed, infected, and recovered individuals: E0, I0, R0.\n",
    "# take into account vaccination\n",
    "E0_summer23, I0_summer23, R0_summer23 = 0, summer23data[0], summer23vac\n",
    "\n",
    "\n",
    "# Define initial number of susceptible individuals.\n",
    "S0_summer23 = N - E0_summer23 - I0_summer23 - R0_summer23 \n",
    "\n",
    "# Set up initial conditions vector for S0, E0, I0, R0\n",
    "initial_summer23_conditions = S0_summer23, E0_summer23, I0_summer23, R0_summer23\n",
    "\n",
    "# Create an array of evenly spaced time values(in days)\n",
    "summer23_t = np.linspace(0, len(summer23data), len(summer23data))\n",
    "\n",
    "# Solve for the differential equations for the SIR model (in vector form) by integrating over the time array t.\n",
    "summer23_solution = odeint(dVdt, initial_summer23_conditions, summer23_t, args=(N, alpha_fit_summer23, beta_fit_summer23, gamma))\n",
    "\n",
    "# transpose solution array to extract data \n",
    "S_summer23, E_summer23, I_summer23, R_summer23 = summer23_solution.T"
   ]
  },
  {
   "cell_type": "code",
   "execution_count": 41,
   "id": "372d432c-a023-462a-a864-e5533f2f0809",
   "metadata": {},
   "outputs": [
    {
     "name": "stdout",
     "output_type": "stream",
     "text": [
      "reproduction number for summer 23: 1.0190960851441218\n"
     ]
    }
   ],
   "source": [
    "#Calculate reproduction number for summer 23\n",
    "rep0_summer23 = (beta_fit_summer23 * S0_summer23) / (gamma * N)\n",
    "print(\"reproduction number for summer 23:\", rep0_summer23)"
   ]
  },
  {
   "cell_type": "code",
   "execution_count": 42,
   "id": "17791da3-1d3a-4e2e-89cc-e6be80b3d305",
   "metadata": {},
   "outputs": [
    {
     "name": "stdout",
     "output_type": "stream",
     "text": [
      "151\n",
      "151\n"
     ]
    }
   ],
   "source": [
    "#Find best fit I(t) for Winter 2021-22 Montgomery Data\n",
    "# Define initial number of exposed, infected, and recovered individuals: E0, I0, R0.\n",
    "# take into account vaccination \n",
    "E0_winter21, I0_winter21, R0_winter21 = 0, winter21data[0], winter21vac\n",
    "\n",
    "# Define initial number of susceptible individuals.\n",
    "S0_winter21 = N - E0_winter21 - I0_winter21 - R0_winter21 \n",
    "\n",
    "# Set up initial conditions vector for S0, E0, I0, R0\n",
    "initial_winter21_conditions = S0_winter21, E0_winter21, I0_winter21, R0_winter21\n",
    "# Create an array of evenly spaced time values(in days)\n",
    "winter21_t = np.linspace(0, len(winter21data), len(winter21data))\n",
    "# Solve for the differential equations for the SIR model (in vector form) by integrating over the time array t.\n",
    "solution_winter21 = odeint(dVdt, initial_winter21_conditions, winter21_t, args=(N, alpha_fit_winter21, beta_fit_winter21, gamma))\n",
    "# transpose solution array to extract data \n",
    "S_winter21, E_winter21, I_winter21, R_winter21 = solution_winter21.T\n",
    "print(len(I_winter21))\n",
    "print(len(winter21data))"
   ]
  },
  {
   "cell_type": "code",
   "execution_count": 43,
   "id": "28588928-8576-42bd-8095-b3d35578aa48",
   "metadata": {},
   "outputs": [
    {
     "name": "stdout",
     "output_type": "stream",
     "text": [
      "reproduction number for winter 21: 2.6873158075773795\n"
     ]
    }
   ],
   "source": [
    "#Calculate reproduction number for winter 21 \n",
    "rep0_winter21 = (beta_fit_winter21 * S0_winter21) / (gamma * N)\n",
    "print(\"reproduction number for winter 21:\", rep0_winter21)"
   ]
  },
  {
   "cell_type": "code",
   "execution_count": 44,
   "id": "e04aa54a-95e0-495b-aa36-16f202d01b57",
   "metadata": {},
   "outputs": [
    {
     "name": "stdout",
     "output_type": "stream",
     "text": [
      "151\n",
      "151\n"
     ]
    }
   ],
   "source": [
    "#Find best fit I(t) for Winter 2022-23 Montgomery Data\n",
    "# Define initial number of exposed, infected, and recovered individuals: E0, I0, R0.\n",
    "# take into account vaccination \n",
    "E0_winter22, I0_winter22, R0_winter22 = 0, winter22data[0], winter22vac\n",
    "\n",
    "# Define initial number of susceptible individuals.\n",
    "S0_winter22 = N - E0_winter22 - I0_winter22 - R0_winter22 \n",
    "\n",
    "# Set up initial conditions vector for S0, E0, I0, R0\n",
    "initial_winter22_conditions = S0_winter22, E0_winter22, I0_winter22, R0_winter22\n",
    "# Create an array of evenly spaced time values(in days)\n",
    "winter22_t = np.linspace(0, len(winter22data), len(winter22data))\n",
    "# Solve for the differential equations for the SEIR model (in vector form) by integrating over the time array t.T-\n",
    "solution_winter22 = odeint(dVdt, initial_winter22_conditions, winter22_t, args=(N, alpha_fit_winter22, beta_fit_winter22, gamma))\n",
    "# transpose solution array to extract data \n",
    "S_winter22, E_winter22, I_winter22, R_winter22 = solution_winter22.T\n",
    "\n",
    "print(len(I_winter22))\n",
    "print(len(winter22data))"
   ]
  },
  {
   "cell_type": "code",
   "execution_count": 45,
   "id": "9aacf4da-dbb6-40f3-9f91-d276dced37f0",
   "metadata": {},
   "outputs": [
    {
     "name": "stdout",
     "output_type": "stream",
     "text": [
      "reproduction number for Winter 22: 1.382820486717381\n"
     ]
    }
   ],
   "source": [
    "#Calculate reproduction number for winter 22 \n",
    "rep0_winter22 = (beta_fit_winter22 * S0_winter22) / (gamma * N)\n",
    "print(\"reproduction number for Winter 22:\", rep0_winter22)"
   ]
  },
  {
   "cell_type": "code",
   "execution_count": 46,
   "id": "19f77a4b-315c-47f1-a6ba-59a98f5ef9ee",
   "metadata": {},
   "outputs": [
    {
     "name": "stdout",
     "output_type": "stream",
     "text": [
      "152\n",
      "152\n"
     ]
    }
   ],
   "source": [
    "#Find best fit I(t) for Winter 2023-24 Montgomery Data\n",
    "# Define initial number of exposed, infected, and recovered individuals: E0, I0, R0.\n",
    "# take into account vaccination \n",
    "E0_winter23, I0_winter23, R0_winter23 = 0, winter23data[0], winter23vac\n",
    "\n",
    "# Define initial number of susceptible individuals.\n",
    "S0_winter23 = N - E0_winter23 - I0_winter23 - R0_winter23 \n",
    "\n",
    "# Set up initial conditions vector for S0, E0, I0, R0\n",
    "initial_winter23_conditions = S0_winter23, E0_winter23, I0_winter23, R0_winter23\n",
    "\n",
    "# Create an array of evenly spaced time values(in days)\n",
    "winter23_t = np.linspace(0, len(winter23data), len(winter23data))\n",
    "# Solve for the differential equations for the SEIR model (in vector form) by integrating over the time array t.\n",
    "solution_winter23 = odeint(dVdt, initial_winter23_conditions, winter23_t, args=(N, alpha_fit_winter23, beta_fit_winter23, gamma))\n",
    "# transpose solution array to extract data \n",
    "S_winter23, E_winter23, I_winter23, R_winter23 = solution_winter23.T\n",
    "\n",
    "#print(len(I_winter23))\n",
    "print(len(I_winter23))\n",
    "print(len(winter23data))"
   ]
  },
  {
   "cell_type": "code",
   "execution_count": 47,
   "id": "e2a2820e-2ae1-44ce-92df-3cb270591e52",
   "metadata": {},
   "outputs": [
    {
     "name": "stdout",
     "output_type": "stream",
     "text": [
      "reproduction number for Winter 23: 1.0225642472137646\n"
     ]
    }
   ],
   "source": [
    "#Calculate reproduction number for winter 23 \n",
    "rep0_winter23 = (beta_fit_winter23 * S0_winter23) / (gamma * N)\n",
    "print(\"reproduction number for Winter 23:\", rep0_winter23)"
   ]
  },
  {
   "cell_type": "code",
   "execution_count": null,
   "id": "fa865d6d-2627-4771-a2ef-e504e2a98d4b",
   "metadata": {},
   "outputs": [],
   "source": [
    "#Plot Summer21 and Winter21/22 side-by-side\n",
    "fig, (ax1, ax2) = plt.subplots(1, 2, figsize=(14, 6))\n",
    "\n",
    "# plot I(t) and Montgomery data for Summer 2021-22 on same grid\n",
    "ax1.grid()\n",
    "ax1.set_title('Montgomery County Infectious Popluation\\nApril 1, 2021 through August 31, 2021')\n",
    "ax1.plot(summer_t, I_summer21, 'r', label='modeled infectious individuals')\n",
    "ax1.plot(summer_t, summer21data, 'o', label='actual infectious individuals')\n",
    "ax1.set_xlabel('Time t in days')\n",
    "ax1.set_ylabel('population (numbers of individuals)')\n",
    "ax1.set_ylim([0,0.05*N])\n",
    "ax1.legend()\n",
    "\n",
    "text_str = f'reproduction number = {rep0_summer21:.3f}'\n",
    "ax1.text(0, 8000, text_str, fontsize=12, color='black', bbox=dict(facecolor='yellow', alpha=0.5))\n",
    "\n",
    "# plot I(t) and Montgomery data for Winter 2021-22 on same grid\n",
    "ax2.grid()\n",
    "ax2.set_title('Montgomery County Infectious Popluation\\nNovember 1, 2021 through March 31, 2022')\n",
    "ax2.plot(winter21_t, I_winter21, 'r', label='modeled infectious individuals')\n",
    "ax2.plot(winter21_t, winter21data, 'o', label='actual infectious individuals')\n",
    "ax2.set_xlabel('Time t in days')\n",
    "ax2.set_ylabel('population (numbers of individuals)')\n",
    "ax2.set_ylim([0,0.05*N])\n",
    "ax2.legend()\n",
    "\n",
    "text_str = f'reproduction number = {rep0_winter21:.3f}'\n",
    "ax2.text(0, 8000, text_str, fontsize=12, color='black', bbox=dict(facecolor='yellow', alpha=0.5))\n",
    "plt.tight_layout() \n",
    "plt.show();"
   ]
  },
  {
   "cell_type": "code",
   "execution_count": null,
   "id": "0e4411e1-a104-491a-baed-d73bdc797ca4",
   "metadata": {},
   "outputs": [],
   "source": [
    "#Plot Summer22 and Winter22/23 side-by-side\n",
    "fig, (ax1, ax2) = plt.subplots(1, 2, figsize=(14, 6))\n",
    "\n",
    "# plot I(t) and Montgomery data for Summer 2022-23 on same grid\n",
    "ax1.grid()\n",
    "ax1.set_title('Montgomery County Infectious Popluation\\nApril 1, 2022 through August 31, 2022')\n",
    "ax1.plot(summer22_t, I_summer22, 'r', label='modeled infectious individuals')\n",
    "ax1.plot(summer22_t, summer22data, 'o', label='actual infectious individuals')\n",
    "ax1.set_xlabel('Time t in days')\n",
    "ax1.set_ylabel('population (numbers of individuals)')\n",
    "ax1.set_ylim([0,12000])\n",
    "ax1.legend()\n",
    "\n",
    "text_str = f'reproduction number= {rep0_summer22:.3f}'\n",
    "ax1.text(0, 8000, text_str, fontsize=12, color='black', bbox=dict(facecolor='yellow', alpha=0.5))\n",
    "\n",
    "\n",
    "# plot I(t) and Montgomery data for Winter 2022-23 on same grid\n",
    "ax2.grid()\n",
    "ax2.set_title('Montgomery County Infectious Popluation\\nNovember 1, 2022 through March 31, 2022/23')\n",
    "ax2.plot(winter22_t, I_winter22, 'r', label='modeled infectious individuals')\n",
    "ax2.plot(winter22_t, winter22data, 'o', label='actual infectious individuals')\n",
    "ax2.set_xlabel('Time t in days')\n",
    "ax2.set_ylabel('population (numbers of individuals)')\n",
    "ax2.set_ylim([0,12000])\n",
    "ax2.legend()\n",
    "\n",
    "text_str = f'reproduction number = {rep0_winter22:.3f}'\n",
    "ax2.text(0, 8000, text_str, fontsize=12, color='black', bbox=dict(facecolor='yellow', alpha=0.5))\n",
    "\n",
    "plt.tight_layout() \n",
    "plt.show();"
   ]
  },
  {
   "cell_type": "code",
   "execution_count": null,
   "id": "7e0b2f21-1e18-49de-b585-bb035bd2c07b",
   "metadata": {},
   "outputs": [],
   "source": [
    "#Plot Summer21 and Winter23/24 side-by-side\n",
    "fig, (ax1, ax2) = plt.subplots(1, 2, figsize=(14, 6))\n",
    "\n",
    "# plot I(t) and Montgomery data for Summer 2023-24 on same grid\n",
    "ax1.grid()\n",
    "ax1.set_title('Montgomery County Infectious Popluation\\nApril 1, 2023 through August 31, 2023')\n",
    "ax1.plot(summer23_t, I_summer23, 'r', label='modeled infectious individuals')\n",
    "ax1.plot(summer23_t, summer23data, 'o', label='actual infectious individuals')\n",
    "ax1.set_xlabel('Time t in days')\n",
    "ax1.set_ylabel('population (numbers of individuals)')\n",
    "ax1.set_ylim([0,10000])\n",
    "ax1.legend()\n",
    "\n",
    "text_str = f'reproduction number = {rep0_summer23:.3f}'\n",
    "ax1.text(0, 3000, text_str, fontsize=12, color='black', bbox=dict(facecolor='yellow', alpha=0.5))\n",
    "\n",
    "\n",
    "# plot I(t) and Montgomery data for Winter 2021-22 on same grid\n",
    "ax2.grid()\n",
    "ax2.set_title('Montgomery County Infectious Popluation\\nNovember 1, 2023 through March 31, 2024')\n",
    "ax2.plot(winter23_t, I_winter23, 'r', label='modeled infectious individuals')\n",
    "ax2.plot(winter23_t, winter23data, 'o', label='actual infectious individuals')\n",
    "ax2.set_xlabel('Time t in days')\n",
    "ax2.set_ylabel('population (numbers of individuals)')\n",
    "ax2.set_ylim([0, 10000])\n",
    "ax2.legend()\n",
    "\n",
    "text_str = f'reproduction number = {rep0_winter23:.3f}'\n",
    "ax2.text(0, 3000, text_str, fontsize=12, color='black', bbox=dict(facecolor='yellow', alpha=0.5))\n",
    "\n",
    "plt.tight_layout\n",
    "plt.show();"
   ]
  },
  {
   "cell_type": "code",
   "execution_count": null,
   "id": "113fcf04-8a36-4190-9106-9cabda7a9d45",
   "metadata": {},
   "outputs": [],
   "source": []
  }
 ],
 "metadata": {
  "kernelspec": {
   "display_name": "Python 3 (ipykernel)",
   "language": "python",
   "name": "python3"
  },
  "language_info": {
   "codemirror_mode": {
    "name": "ipython",
    "version": 3
   },
   "file_extension": ".py",
   "mimetype": "text/x-python",
   "name": "python",
   "nbconvert_exporter": "python",
   "pygments_lexer": "ipython3",
   "version": "3.11.7"
  }
 },
 "nbformat": 4,
 "nbformat_minor": 5
}
